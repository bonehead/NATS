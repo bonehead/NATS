{
 "cells": [
  {
   "cell_type": "code",
   "execution_count": null,
   "metadata": {},
   "outputs": [],
   "source": [
    "from pyrouge import Rouge155\n",
    "\n",
    "r = Rouge155()\n",
    "r.system_dir = '/home/tian/rexp3/sum_data/rouge/system_summaries/'\n",
    "r.model_dir = '/home/tian/rexp3/sum_data/rouge/model_summaries/'\n",
    "r.system_filename_pattern = 'sum.(\\d+).txt'\n",
    "r.model_filename_pattern = 'sum.[A-Z].#ID#.txt'\n",
    "\n",
    "output = r.convert_and_evaluate()\n",
    "output_dict = r.output_to_dict(output)"
   ]
  },
  {
   "cell_type": "code",
   "execution_count": null,
   "metadata": {},
   "outputs": [],
   "source": [
    "print(output)"
   ]
  }
 ],
 "metadata": {
  "kernelspec": {
   "display_name": "Python 2",
   "language": "python",
   "name": "python2"
  },
  "language_info": {
   "codemirror_mode": {
    "name": "ipython",
    "version": 2
   },
   "file_extension": ".py",
   "mimetype": "text/x-python",
   "name": "python",
   "nbconvert_exporter": "python",
   "pygments_lexer": "ipython2",
   "version": "2.7.12"
  }
 },
 "nbformat": 4,
 "nbformat_minor": 2
}
